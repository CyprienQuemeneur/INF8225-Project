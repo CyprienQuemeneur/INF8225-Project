{
 "cells": [
  {
   "cell_type": "markdown",
   "metadata": {},
   "source": [
    "# ResNet meets Split-Attention: replication, ablation and analysis of ResNeSt\n",
    "# Image Classification on ILSVRC2012 subsection\n",
    "\n",
    "*Authors: Emilie OURAOU, Cyprien QUEMENEUR, Hugo RODET*\n",
    "\n",
    "\n",
    "<img src=\"https://pytorch.org/assets/images/resnest.jpg\" alt=\"alt\" width=\"50%\"/>\n",
    "\n",
    "### Overview\n",
    "ResNeSt is an architecture of neural networks, applied to computer vision, proposing a mix between a modern convolutive neural network (CNN), the ResNet, as well as the attention mechanism. For our final project we propose a study of the article which introduced the ResNeSts and conduct some additional analyses and ablations. This work indirectly follows our article presentation which focused on vision transformers (ViTs).\n",
    "\n",
    "As a baseline model, a ResNeSt is trained for image classification. We reproduce the experiments on the ImageNet dataset, using the pretrained models made available by the authors of the original article (all rights reserved). Furthermore, we additionaly examine the influence of the batch size on the final results and reproduce the ablation study conducted in the original article.\n",
    "\n",
    "### Disclaimer\n",
    "A complete guideline is found in the notebook, however **the results and conclusions are found in the final report, which is written under an article format**.\n",
    "\n",
    "### Relevant references for this subsection\n",
    "\n",
    "Reference to the main article:\n",
    "* [ResNeSt: Split-Attention Networks](https://arxiv.org/abs/2004.08955)\n",
    "\n",
    "Reference to the repository:\n",
    "* [ResNeSt main repository](https://github.com/zhanghang1989/ResNeSt)\n",
    "\n",
    "Reference to the dataset:\n",
    "* [ImageNet](https://www.image-net.org/)\n",
    "\n",
    "\n",
    "## Setting up\n",
    "\n",
    "This notebook must be run in a UNIX environment, preferably a common Linux distribution."
   ]
  },
  {
   "cell_type": "code",
   "execution_count": 20,
   "metadata": {},
   "outputs": [
    {
     "name": "stdout",
     "output_type": "stream",
     "text": [
      "shell-init: error retrieving current directory: getcwd: cannot access parent directories: No such file or directory\n",
      "chdir: error retrieving current directory: getcwd: cannot access parent directories: No such file or directory\n",
      "Cloning into 'ResNeSt'...\n",
      "remote: Enumerating objects: 344, done.\u001b[K\n",
      "remote: Counting objects: 100% (154/154), done.\u001b[K\n",
      "remote: Compressing objects: 100% (97/97), done.\u001b[K\n",
      "remote: Total 344 (delta 70), reused 111 (delta 49), pack-reused 190\u001b[K\n",
      "Receiving objects: 100% (344/344), 395.03 KiB | 2.95 MiB/s, done.\n",
      "Resolving deltas: 100% (150/150), done.\n",
      "/home/hugo/Documents/ResNeSt/scripts/torch\n"
     ]
    }
   ],
   "source": [
    "# Cloning the authors' GitHub page in the Documents directory. Feel free to set any directory you want\n",
    "!cd ~/Documents && git clone https://github.com/zhanghang1989/ResNeSt.git\n",
    "\n",
    "# Move to the scripts folder with the torch implementation\n",
    "%cd ~/Documents/ResNeSt/scripts/torch"
   ]
  },
  {
   "cell_type": "markdown",
   "metadata": {},
   "source": [
    "**Disclaimer : at this point, the official github code has an error. In ```verify.py``` line 172, ```view``` must be replaced with ```reshape```.**\n",
    "\n",
    "The following cell does it automatically."
   ]
  },
  {
   "cell_type": "code",
   "execution_count": 22,
   "metadata": {},
   "outputs": [],
   "source": [
    "!mv verify.py tmp && sed '172s/view/reshape/g' tmp > verify.py && rm -f tmp"
   ]
  },
  {
   "cell_type": "markdown",
   "metadata": {},
   "source": [
    "## Replicating the base results"
   ]
  },
  {
   "cell_type": "markdown",
   "metadata": {},
   "source": [
    "### ResNeSt-50"
   ]
  },
  {
   "cell_type": "code",
   "execution_count": 26,
   "metadata": {},
   "outputs": [
    {
     "name": "stdout",
     "output_type": "stream",
     "text": [
      "/home/hugo/.local/lib/python3.8/site-packages/torchvision/transforms/transforms.py:332: UserWarning: Argument interpolation should be of type InterpolationMode instead of int. Please, use InterpolationMode enum.\n",
      "  warnings.warn(\n",
      "/home/hugo/.local/lib/python3.8/site-packages/torch/utils/data/dataloader.py:487: UserWarning: This DataLoader will create 32 worker processes in total. Our suggested max number of worker in current system is 12, which is smaller than what this DataLoader is going to create. Please be aware that excessive worker creation might get DataLoader running slow or even freeze, lower the worker number to avoid potential slowness/freeze if necessary.\n",
      "  warnings.warn(_create_warning_msg(\n",
      "Downloading: \"https://github.com/zhanghang1989/ResNeSt/archive/master.zip\" to /home/hugo/.cache/torch/hub/master.zip\n",
      "Using cache found in /home/hugo/.cache/torch/hub/zhanghang1989_ResNeSt_master\n",
      "Top1: 81.034 | Top5: 95.424: 100%|██████████| 1563/1563 [02:30<00:00, 10.37it/s]\n",
      "Top1 Acc: 81.034 | Top5 Acc: 95.424 \n"
     ]
    }
   ],
   "source": [
    "!/bin/python3 verify.py --model resnest50 --crop-size 224 --batch-size 32 | tail -1"
   ]
  },
  {
   "cell_type": "markdown",
   "metadata": {},
   "source": [
    "### ResNeSt-101"
   ]
  },
  {
   "cell_type": "code",
   "execution_count": 25,
   "metadata": {},
   "outputs": [
    {
     "name": "stdout",
     "output_type": "stream",
     "text": [
      "/home/hugo/.local/lib/python3.8/site-packages/torchvision/transforms/transforms.py:332: UserWarning: Argument interpolation should be of type InterpolationMode instead of int. Please, use InterpolationMode enum.\n",
      "  warnings.warn(\n",
      "/home/hugo/.local/lib/python3.8/site-packages/torch/utils/data/dataloader.py:487: UserWarning: This DataLoader will create 32 worker processes in total. Our suggested max number of worker in current system is 12, which is smaller than what this DataLoader is going to create. Please be aware that excessive worker creation might get DataLoader running slow or even freeze, lower the worker number to avoid potential slowness/freeze if necessary.\n",
      "  warnings.warn(_create_warning_msg(\n",
      "Downloading: \"https://github.com/zhanghang1989/ResNeSt/archive/master.zip\" to /home/hugo/.cache/torch/hub/master.zip\n",
      "Using cache found in /home/hugo/.cache/torch/hub/zhanghang1989_ResNeSt_master\n",
      "Top1: 82.826 | Top5: 96.318: 100%|██████████| 1563/1563 [05:04<00:00,  5.13it/s]\n",
      "Top1 Acc: 82.826 | Top5 Acc: 96.318 \n"
     ]
    }
   ],
   "source": [
    "!/bin/python3 verify.py --model resnest101 --crop-size 256 --batch-size 32 | tail -1"
   ]
  },
  {
   "cell_type": "markdown",
   "metadata": {},
   "source": [
    "### ResNeSt-200"
   ]
  },
  {
   "cell_type": "code",
   "execution_count": null,
   "metadata": {},
   "outputs": [],
   "source": [
    "!/bin/python3 verify.py --model resnest200 --crop-size 320 --batch-size 32 | tail -1"
   ]
  },
  {
   "cell_type": "markdown",
   "metadata": {},
   "source": [
    "### ResNeSt-269"
   ]
  },
  {
   "cell_type": "code",
   "execution_count": null,
   "metadata": {},
   "outputs": [],
   "source": [
    "!/bin/python3 verify.py --model resnest236 --crop-size 416 --batch-size 32 | tail -1"
   ]
  },
  {
   "cell_type": "markdown",
   "metadata": {},
   "source": [
    "## Batch size influence experiment"
   ]
  },
  {
   "cell_type": "code",
   "execution_count": null,
   "metadata": {},
   "outputs": [],
   "source": [
    "!/bin/python3 verify.py --model resnest50 --crop-size 224 --batch-size 16 | tail -1\n",
    "!/bin/python3 verify.py --model resnest50 --crop-size 224 --batch-size 32 | tail -1\n",
    "!/bin/python3 verify.py --model resnest50 --crop-size 224 --batch-size 64 | tail -1"
   ]
  },
  {
   "cell_type": "markdown",
   "metadata": {},
   "source": [
    "## Ablation study\n",
    "\n",
    "$s$ denotes the radix, $x$ the cardinality and $d$ the network depth"
   ]
  },
  {
   "cell_type": "code",
   "execution_count": null,
   "metadata": {},
   "outputs": [],
   "source": [
    "!/bin/python3 verify.py --model resnest50_fast_1s1x64d --crop-size 224 --batch-size 32 | tail -1\n",
    "!/bin/python3 verify.py --model resnest50_fast_2s1x64d --crop-size 224 --batch-size 32 | tail -1\n",
    "!/bin/python3 verify.py --model resnest50_fast_4s1x64d --crop-size 224 --batch-size 32 | tail -1\n",
    "!/bin/python3 verify.py --model resnest50_fast_1s2x40d --crop-size 224 --batch-size 32 | tail -1\n",
    "!/bin/python3 verify.py --model resnest50_fast_2s2x40d --crop-size 224 --batch-size 32 | tail -1\n",
    "!/bin/python3 verify.py --model resnest50_fast_4s2x40d --crop-size 224 --batch-size 32 | tail -1\n",
    "!/bin/python3 verify.py --model resnest50_fast_1s4x24d --crop-size 224 --batch-size 32 | tail -1"
   ]
  },
  {
   "cell_type": "markdown",
   "metadata": {},
   "source": [
    "## Results\n",
    "\n",
    "For the results and analyses please consult the final report."
   ]
  },
  {
   "cell_type": "code",
   "execution_count": null,
   "metadata": {},
   "outputs": [],
   "source": []
  }
 ],
 "metadata": {
  "interpreter": {
   "hash": "916dbcbb3f70747c44a77c7bcd40155683ae19c65e1c03b4aa3499c5328201f1"
  },
  "kernelspec": {
   "display_name": "Python 3 (ipykernel)",
   "language": "python",
   "name": "python3"
  },
  "language_info": {
   "codemirror_mode": {
    "name": "ipython",
    "version": 3
   },
   "file_extension": ".py",
   "mimetype": "text/x-python",
   "name": "python",
   "nbconvert_exporter": "python",
   "pygments_lexer": "ipython3",
   "version": "3.8.11"
  }
 },
 "nbformat": 4,
 "nbformat_minor": 2
}
